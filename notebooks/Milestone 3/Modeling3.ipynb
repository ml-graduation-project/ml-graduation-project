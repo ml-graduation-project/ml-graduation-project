{
  "cells": [
    {
      "cell_type": "code",
      "execution_count": 1,
      "metadata": {
        "id": "YxZJXBW6SA4z"
      },
      "outputs": [],
      "source": [
        "\n",
        "import pandas as pd\n",
        "import numpy as np\n",
        "import seaborn as sns\n",
        "import matplotlib.pyplot as plt\n",
        "from sklearn.preprocessing import MinMaxScaler\n",
        "from sklearn.decomposition import PCA\n",
        "from sklearn.model_selection import train_test_split\n",
        "from sklearn.ensemble import RandomForestRegressor\n",
        "from sklearn.metrics import mean_squared_error, r2_score, mean_absolute_error    \n",
        "from sklearn.ensemble import RandomForestRegressor\n",
        "import xgboost as xgb\n",
        "import tensorflow as tf\n",
        "from sklearn.feature_selection import VarianceThreshold\n",
        "from sklearn.model_selection import RandomizedSearchCV"
      ]
    },
    {
      "cell_type": "markdown",
      "metadata": {
        "id": "4npbEom3SrZ2"
      },
      "source": [
        "## Load the Data"
      ]
    },
    {
      "cell_type": "code",
      "execution_count": 2,
      "metadata": {
        "id": "-ZcyDob4SpY4"
      },
      "outputs": [
        {
          "name": "stderr",
          "output_type": "stream",
          "text": [
            "<>:28: SyntaxWarning: invalid escape sequence '\\s'\n",
            "<>:29: SyntaxWarning: invalid escape sequence '\\s'\n",
            "<>:30: SyntaxWarning: invalid escape sequence '\\s'\n",
            "<>:28: SyntaxWarning: invalid escape sequence '\\s'\n",
            "<>:29: SyntaxWarning: invalid escape sequence '\\s'\n",
            "<>:30: SyntaxWarning: invalid escape sequence '\\s'\n",
            "C:\\Users\\halah\\AppData\\Local\\Temp\\ipykernel_22476\\3751112546.py:28: SyntaxWarning: invalid escape sequence '\\s'\n",
            "  train = pd.read_csv(\"../../data/raw/train_FD001.txt\",sep=\"\\s+\", header=None, names = col_names) #separate by whitespace, the + is for one or more spaces\n",
            "C:\\Users\\halah\\AppData\\Local\\Temp\\ipykernel_22476\\3751112546.py:29: SyntaxWarning: invalid escape sequence '\\s'\n",
            "  test  = pd.read_csv(\"../../data/raw/test_FD001.txt\",sep=\"\\s+\", header=None, names = col_names)\n",
            "C:\\Users\\halah\\AppData\\Local\\Temp\\ipykernel_22476\\3751112546.py:30: SyntaxWarning: invalid escape sequence '\\s'\n",
            "  rul = pd.read_csv(\"../../data/raw/RUL_FD001.txt\", sep=\"\\s+\", header=None, names=['RUL'])\n"
          ]
        }
      ],
      "source": [
        "#we define col names as there are no col names in the dataset file\n",
        "index= [\"engine\", \"cycle\"]\n",
        "setting = [f\"op_setting_{i}\" for i in range(1, 4)]\n",
        "sensor = [\n",
        "    \"Fan inlet temperature (◦R)\",\n",
        "    \"LPC outlet temperature (◦R)\",\n",
        "    \"HPC outlet temperature (◦R)\",\n",
        "    \"LPT outlet temperature (◦R)\",\n",
        "    \"Fan inlet Pressure (psia)\",\n",
        "    \"Bypass-duct pressure (psia)\",\n",
        "    \"HPC outlet pressure (psia)\",\n",
        "    \"Physical fan speed (rpm)\",\n",
        "    \"Physical core speed (rpm)\",\n",
        "    \"Engine pressure ratio (P50/P2)\",\n",
        "    \"HPC outlet Static pressure (psia)\",\n",
        "    \"Ratio of fuel flow to Ps30 (pps/psia)\",\n",
        "    \"Corrected fan speed (rpm)\",\n",
        "    \"Corrected core speed (rpm)\",\n",
        "    \"Bypass Ratio\",\n",
        "    \"Burner fuel-air ratio\",\n",
        "    \"Bleed Enthalpy\",\n",
        "    \"Required fan speed\",\n",
        "    \"Required fan conversion speed\",\n",
        "    \"High-pressure turbines Cool air flow\",\n",
        "    \"Low-pressure turbines Cool air flow\",\n",
        "]\n",
        "col_names = index + setting + sensor \n",
        "train = pd.read_csv(\"../../data/raw/train_FD001.txt\",sep=\"\\s+\", header=None, names = col_names) #separate by whitespace, the + is for one or more spaces\n",
        "test  = pd.read_csv(\"../../data/raw/test_FD001.txt\",sep=\"\\s+\", header=None, names = col_names)\n",
        "rul = pd.read_csv(\"../../data/raw/RUL_FD001.txt\", sep=\"\\s+\", header=None, names=['RUL'])\n"
      ]
    },
    {
      "cell_type": "code",
      "execution_count": 3,
      "metadata": {
        "colab": {
          "base_uri": "https://localhost:8080/",
          "height": 444
        },
        "id": "VzpxvYfJTmQZ",
        "outputId": "17542eb7-4109-41d8-8ca0-fcbf74b88fbf"
      },
      "outputs": [
        {
          "data": {
            "text/html": [
              "<div>\n",
              "<style scoped>\n",
              "    .dataframe tbody tr th:only-of-type {\n",
              "        vertical-align: middle;\n",
              "    }\n",
              "\n",
              "    .dataframe tbody tr th {\n",
              "        vertical-align: top;\n",
              "    }\n",
              "\n",
              "    .dataframe thead th {\n",
              "        text-align: right;\n",
              "    }\n",
              "</style>\n",
              "<table border=\"1\" class=\"dataframe\">\n",
              "  <thead>\n",
              "    <tr style=\"text-align: right;\">\n",
              "      <th></th>\n",
              "      <th>engine</th>\n",
              "      <th>cycle</th>\n",
              "      <th>op_setting_1</th>\n",
              "      <th>op_setting_2</th>\n",
              "      <th>op_setting_3</th>\n",
              "      <th>Fan inlet temperature (◦R)</th>\n",
              "      <th>LPC outlet temperature (◦R)</th>\n",
              "      <th>HPC outlet temperature (◦R)</th>\n",
              "      <th>LPT outlet temperature (◦R)</th>\n",
              "      <th>Fan inlet Pressure (psia)</th>\n",
              "      <th>...</th>\n",
              "      <th>Ratio of fuel flow to Ps30 (pps/psia)</th>\n",
              "      <th>Corrected fan speed (rpm)</th>\n",
              "      <th>Corrected core speed (rpm)</th>\n",
              "      <th>Bypass Ratio</th>\n",
              "      <th>Burner fuel-air ratio</th>\n",
              "      <th>Bleed Enthalpy</th>\n",
              "      <th>Required fan speed</th>\n",
              "      <th>Required fan conversion speed</th>\n",
              "      <th>High-pressure turbines Cool air flow</th>\n",
              "      <th>Low-pressure turbines Cool air flow</th>\n",
              "    </tr>\n",
              "  </thead>\n",
              "  <tbody>\n",
              "    <tr>\n",
              "      <th>0</th>\n",
              "      <td>1</td>\n",
              "      <td>1</td>\n",
              "      <td>-0.0007</td>\n",
              "      <td>-0.0004</td>\n",
              "      <td>100.0</td>\n",
              "      <td>518.67</td>\n",
              "      <td>641.82</td>\n",
              "      <td>1589.70</td>\n",
              "      <td>1400.60</td>\n",
              "      <td>14.62</td>\n",
              "      <td>...</td>\n",
              "      <td>521.66</td>\n",
              "      <td>2388.02</td>\n",
              "      <td>8138.62</td>\n",
              "      <td>8.4195</td>\n",
              "      <td>0.03</td>\n",
              "      <td>392</td>\n",
              "      <td>2388</td>\n",
              "      <td>100.0</td>\n",
              "      <td>39.06</td>\n",
              "      <td>23.4190</td>\n",
              "    </tr>\n",
              "    <tr>\n",
              "      <th>1</th>\n",
              "      <td>1</td>\n",
              "      <td>2</td>\n",
              "      <td>0.0019</td>\n",
              "      <td>-0.0003</td>\n",
              "      <td>100.0</td>\n",
              "      <td>518.67</td>\n",
              "      <td>642.15</td>\n",
              "      <td>1591.82</td>\n",
              "      <td>1403.14</td>\n",
              "      <td>14.62</td>\n",
              "      <td>...</td>\n",
              "      <td>522.28</td>\n",
              "      <td>2388.07</td>\n",
              "      <td>8131.49</td>\n",
              "      <td>8.4318</td>\n",
              "      <td>0.03</td>\n",
              "      <td>392</td>\n",
              "      <td>2388</td>\n",
              "      <td>100.0</td>\n",
              "      <td>39.00</td>\n",
              "      <td>23.4236</td>\n",
              "    </tr>\n",
              "    <tr>\n",
              "      <th>2</th>\n",
              "      <td>1</td>\n",
              "      <td>3</td>\n",
              "      <td>-0.0043</td>\n",
              "      <td>0.0003</td>\n",
              "      <td>100.0</td>\n",
              "      <td>518.67</td>\n",
              "      <td>642.35</td>\n",
              "      <td>1587.99</td>\n",
              "      <td>1404.20</td>\n",
              "      <td>14.62</td>\n",
              "      <td>...</td>\n",
              "      <td>522.42</td>\n",
              "      <td>2388.03</td>\n",
              "      <td>8133.23</td>\n",
              "      <td>8.4178</td>\n",
              "      <td>0.03</td>\n",
              "      <td>390</td>\n",
              "      <td>2388</td>\n",
              "      <td>100.0</td>\n",
              "      <td>38.95</td>\n",
              "      <td>23.3442</td>\n",
              "    </tr>\n",
              "    <tr>\n",
              "      <th>3</th>\n",
              "      <td>1</td>\n",
              "      <td>4</td>\n",
              "      <td>0.0007</td>\n",
              "      <td>0.0000</td>\n",
              "      <td>100.0</td>\n",
              "      <td>518.67</td>\n",
              "      <td>642.35</td>\n",
              "      <td>1582.79</td>\n",
              "      <td>1401.87</td>\n",
              "      <td>14.62</td>\n",
              "      <td>...</td>\n",
              "      <td>522.86</td>\n",
              "      <td>2388.08</td>\n",
              "      <td>8133.83</td>\n",
              "      <td>8.3682</td>\n",
              "      <td>0.03</td>\n",
              "      <td>392</td>\n",
              "      <td>2388</td>\n",
              "      <td>100.0</td>\n",
              "      <td>38.88</td>\n",
              "      <td>23.3739</td>\n",
              "    </tr>\n",
              "    <tr>\n",
              "      <th>4</th>\n",
              "      <td>1</td>\n",
              "      <td>5</td>\n",
              "      <td>-0.0019</td>\n",
              "      <td>-0.0002</td>\n",
              "      <td>100.0</td>\n",
              "      <td>518.67</td>\n",
              "      <td>642.37</td>\n",
              "      <td>1582.85</td>\n",
              "      <td>1406.22</td>\n",
              "      <td>14.62</td>\n",
              "      <td>...</td>\n",
              "      <td>522.19</td>\n",
              "      <td>2388.04</td>\n",
              "      <td>8133.80</td>\n",
              "      <td>8.4294</td>\n",
              "      <td>0.03</td>\n",
              "      <td>393</td>\n",
              "      <td>2388</td>\n",
              "      <td>100.0</td>\n",
              "      <td>38.90</td>\n",
              "      <td>23.4044</td>\n",
              "    </tr>\n",
              "  </tbody>\n",
              "</table>\n",
              "<p>5 rows × 26 columns</p>\n",
              "</div>"
            ],
            "text/plain": [
              "   engine  cycle  op_setting_1  op_setting_2  op_setting_3  \\\n",
              "0       1      1       -0.0007       -0.0004         100.0   \n",
              "1       1      2        0.0019       -0.0003         100.0   \n",
              "2       1      3       -0.0043        0.0003         100.0   \n",
              "3       1      4        0.0007        0.0000         100.0   \n",
              "4       1      5       -0.0019       -0.0002         100.0   \n",
              "\n",
              "   Fan inlet temperature (◦R)  LPC outlet temperature (◦R)  \\\n",
              "0                      518.67                       641.82   \n",
              "1                      518.67                       642.15   \n",
              "2                      518.67                       642.35   \n",
              "3                      518.67                       642.35   \n",
              "4                      518.67                       642.37   \n",
              "\n",
              "   HPC outlet temperature (◦R)  LPT outlet temperature (◦R)  \\\n",
              "0                      1589.70                      1400.60   \n",
              "1                      1591.82                      1403.14   \n",
              "2                      1587.99                      1404.20   \n",
              "3                      1582.79                      1401.87   \n",
              "4                      1582.85                      1406.22   \n",
              "\n",
              "   Fan inlet Pressure (psia)  ...  Ratio of fuel flow to Ps30 (pps/psia)  \\\n",
              "0                      14.62  ...                                 521.66   \n",
              "1                      14.62  ...                                 522.28   \n",
              "2                      14.62  ...                                 522.42   \n",
              "3                      14.62  ...                                 522.86   \n",
              "4                      14.62  ...                                 522.19   \n",
              "\n",
              "   Corrected fan speed (rpm)  Corrected core speed (rpm)  Bypass Ratio  \\\n",
              "0                    2388.02                     8138.62        8.4195   \n",
              "1                    2388.07                     8131.49        8.4318   \n",
              "2                    2388.03                     8133.23        8.4178   \n",
              "3                    2388.08                     8133.83        8.3682   \n",
              "4                    2388.04                     8133.80        8.4294   \n",
              "\n",
              "   Burner fuel-air ratio  Bleed Enthalpy  Required fan speed  \\\n",
              "0                   0.03             392                2388   \n",
              "1                   0.03             392                2388   \n",
              "2                   0.03             390                2388   \n",
              "3                   0.03             392                2388   \n",
              "4                   0.03             393                2388   \n",
              "\n",
              "   Required fan conversion speed  High-pressure turbines Cool air flow  \\\n",
              "0                          100.0                                 39.06   \n",
              "1                          100.0                                 39.00   \n",
              "2                          100.0                                 38.95   \n",
              "3                          100.0                                 38.88   \n",
              "4                          100.0                                 38.90   \n",
              "\n",
              "   Low-pressure turbines Cool air flow  \n",
              "0                              23.4190  \n",
              "1                              23.4236  \n",
              "2                              23.3442  \n",
              "3                              23.3739  \n",
              "4                              23.4044  \n",
              "\n",
              "[5 rows x 26 columns]"
            ]
          },
          "execution_count": 3,
          "metadata": {},
          "output_type": "execute_result"
        }
      ],
      "source": [
        "train.head()"
      ]
    },
    {
      "cell_type": "code",
      "execution_count": null,
      "metadata": {},
      "outputs": [],
      "source": [
        "test.head()"
      ]
    },
    {
      "cell_type": "code",
      "execution_count": null,
      "metadata": {},
      "outputs": [],
      "source": [
        "train.info()"
      ]
    },
    {
      "cell_type": "code",
      "execution_count": null,
      "metadata": {
        "colab": {
          "base_uri": "https://localhost:8080/"
        },
        "id": "Ji2QXMjltKCN",
        "outputId": "c5fa01d4-1fd2-43b7-96da-b0fd2c4d14b4"
      },
      "outputs": [],
      "source": [
        "train.shape"
      ]
    },
    {
      "cell_type": "code",
      "execution_count": null,
      "metadata": {
        "colab": {
          "base_uri": "https://localhost:8080/"
        },
        "id": "CQ16WgOztL2q",
        "outputId": "e7e67e04-b18d-4cc6-c760-ae2f25b2f9d1"
      },
      "outputs": [],
      "source": [
        "test.shape"
      ]
    },
    {
      "cell_type": "code",
      "execution_count": null,
      "metadata": {
        "colab": {
          "base_uri": "https://localhost:8080/"
        },
        "id": "bEE6DUTqtNff",
        "outputId": "10a46fda-1600-4e60-c628-0ff87d9b77f0"
      },
      "outputs": [],
      "source": [
        "rul.shape"
      ]
    },
    {
      "cell_type": "code",
      "execution_count": null,
      "metadata": {
        "colab": {
          "base_uri": "https://localhost:8080/",
          "height": 899
        },
        "id": "3Z63N1TXtT9H",
        "outputId": "ca6b4f4e-2bbb-4d05-9aef-e2269b9f0093"
      },
      "outputs": [],
      "source": [
        "train.isna().sum()"
      ]
    },
    {
      "cell_type": "code",
      "execution_count": null,
      "metadata": {
        "colab": {
          "base_uri": "https://localhost:8080/",
          "height": 899
        },
        "id": "pWx1_zDwtaST",
        "outputId": "92eb7056-29e7-418d-ed0f-23d0ae8f61ee"
      },
      "outputs": [],
      "source": [
        "test.isna().sum()"
      ]
    },
    {
      "cell_type": "code",
      "execution_count": null,
      "metadata": {
        "colab": {
          "base_uri": "https://localhost:8080/"
        },
        "id": "3_LvKVx5u1Ss",
        "outputId": "4a57ba33-3e27-40bd-be49-62e71e8c76ca"
      },
      "outputs": [],
      "source": [
        "train.duplicated().sum()"
      ]
    },
    {
      "cell_type": "code",
      "execution_count": null,
      "metadata": {
        "colab": {
          "base_uri": "https://localhost:8080/"
        },
        "id": "sDsLQ0Mru2zj",
        "outputId": "bb261e59-9f1b-4383-b6b4-ca8d4c2db9a4"
      },
      "outputs": [],
      "source": [
        "test.duplicated().sum()"
      ]
    },
    {
      "cell_type": "code",
      "execution_count": null,
      "metadata": {
        "colab": {
          "base_uri": "https://localhost:8080/"
        },
        "id": "tKftbjjhTpHT",
        "outputId": "8048e5c9-a725-4a1a-aff7-cde27b97e501"
      },
      "outputs": [],
      "source": [
        "print(\"Number of engines in train dataset:\", train['engine'].nunique())"
      ]
    },
    {
      "cell_type": "code",
      "execution_count": null,
      "metadata": {
        "colab": {
          "base_uri": "https://localhost:8080/",
          "height": 865
        },
        "id": "kt98jOvbvCw_",
        "outputId": "6d42c9e9-84ab-4b17-e3bf-67259663f506"
      },
      "outputs": [],
      "source": [
        "train.describe().T"
      ]
    },
    {
      "cell_type": "code",
      "execution_count": 3,
      "metadata": {
        "colab": {
          "base_uri": "https://localhost:8080/"
        },
        "id": "C4U_U2N7vYy9",
        "outputId": "725ad837-58be-4454-b729-0c75a90b0a21"
      },
      "outputs": [
        {
          "name": "stdout",
          "output_type": "stream",
          "text": [
            "Columns with constant values: ['op_setting_3', 'Fan inlet temperature (◦R)', 'Fan inlet Pressure (psia)', 'Engine pressure ratio (P50/P2)', 'Burner fuel-air ratio', 'Required fan speed', 'Required fan conversion speed']\n"
          ]
        }
      ],
      "source": [
        "#From the description of the dataframe we see some columns who seem to be constant (same min and max values) these wont help us so it is safe to drop them\n",
        "constant_cols = [col for col in train.columns if train[col].nunique() == 1]\n",
        "\n",
        "print(\"Columns with constant values:\" , constant_cols)\n",
        "train.drop(constant_cols, axis=1, inplace=True, errors='ignore')\n",
        "test.drop(constant_cols, axis=1, inplace=True, errors='ignore')"
      ]
    },
    {
      "cell_type": "code",
      "execution_count": 4,
      "metadata": {
        "colab": {
          "base_uri": "https://localhost:8080/",
          "height": 359
        },
        "id": "dOlFmwSmTx4p",
        "outputId": "42225a49-ce68-4717-fedc-191f4e0da09f"
      },
      "outputs": [
        {
          "data": {
            "image/png": "[encoded data removed]",
            "text/plain": [
              "<Figure size 1000x500 with 1 Axes>"
            ]
          },
          "metadata": {},
          "output_type": "display_data"
        }
      ],
      "source": [
        "engine1 = train[train['engine']==1]\n",
        "plt.figure(figsize=(10,5))\n",
        "plt.plot(engine1['cycle'], engine1['HPC outlet temperature (◦R)'], label='Sensor 3')\n",
        "plt.plot(engine1['cycle'], engine1['LPT outlet temperature (◦R)'], label='Sensor 4')\n",
        "plt.plot(engine1['cycle'], engine1['HPC outlet pressure (psia)'], label='Sensor 7')\n",
        "plt.plot(engine1['cycle'], engine1['Bleed Enthalpy'], label='Sensor 12')\n",
        "plt.xlabel(\"Cycle\")\n",
        "plt.ylabel(\"Sensor reading\")\n",
        "plt.title(\"Engine 1 degradation (sample sensors)\")\n",
        "plt.legend()\n",
        "plt.show()"
      ]
    },
    {
      "cell_type": "code",
      "execution_count": null,
      "metadata": {
        "colab": {
          "base_uri": "https://localhost:8080/"
        },
        "id": "sW_h5bGvwmib",
        "outputId": "a6d4ba99-52e7-4b79-f836-a50d45ebc1c4"
      },
      "outputs": [],
      "source": [
        "train.shape"
      ]
    },
    {
      "cell_type": "code",
      "execution_count": null,
      "metadata": {
        "colab": {
          "base_uri": "https://localhost:8080/"
        },
        "id": "FL37NuCKwqOT",
        "outputId": "13d25aae-d5da-49c6-c854-eb2766fbc3e8"
      },
      "outputs": [],
      "source": [
        "test.shape"
      ]
    },
    {
      "cell_type": "code",
      "execution_count": 5,
      "metadata": {
        "colab": {
          "base_uri": "https://localhost:8080/",
          "height": 444
        },
        "id": "f2LnqqqCw7kT",
        "outputId": "101a5c35-bdb8-4440-efd5-60a1f1e5c59e"
      },
      "outputs": [
        {
          "data": {
            "text/html": [
              "<div>\n",
              "<style scoped>\n",
              "    .dataframe tbody tr th:only-of-type {\n",
              "        vertical-align: middle;\n",
              "    }\n",
              "\n",
              "    .dataframe tbody tr th {\n",
              "        vertical-align: top;\n",
              "    }\n",
              "\n",
              "    .dataframe thead th {\n",
              "        text-align: right;\n",
              "    }\n",
              "</style>\n",
              "<table border=\"1\" class=\"dataframe\">\n",
              "  <thead>\n",
              "    <tr style=\"text-align: right;\">\n",
              "      <th></th>\n",
              "      <th>engine</th>\n",
              "      <th>cycle</th>\n",
              "      <th>op_setting_1</th>\n",
              "      <th>op_setting_2</th>\n",
              "      <th>LPC outlet temperature (◦R)</th>\n",
              "      <th>HPC outlet temperature (◦R)</th>\n",
              "      <th>LPT outlet temperature (◦R)</th>\n",
              "      <th>Bypass-duct pressure (psia)</th>\n",
              "      <th>HPC outlet pressure (psia)</th>\n",
              "      <th>Physical fan speed (rpm)</th>\n",
              "      <th>Physical core speed (rpm)</th>\n",
              "      <th>HPC outlet Static pressure (psia)</th>\n",
              "      <th>Ratio of fuel flow to Ps30 (pps/psia)</th>\n",
              "      <th>Corrected fan speed (rpm)</th>\n",
              "      <th>Corrected core speed (rpm)</th>\n",
              "      <th>Bypass Ratio</th>\n",
              "      <th>Bleed Enthalpy</th>\n",
              "      <th>High-pressure turbines Cool air flow</th>\n",
              "      <th>Low-pressure turbines Cool air flow</th>\n",
              "      <th>RUL</th>\n",
              "    </tr>\n",
              "  </thead>\n",
              "  <tbody>\n",
              "    <tr>\n",
              "      <th>0</th>\n",
              "      <td>1</td>\n",
              "      <td>1</td>\n",
              "      <td>-0.0007</td>\n",
              "      <td>-0.0004</td>\n",
              "      <td>641.82</td>\n",
              "      <td>1589.70</td>\n",
              "      <td>1400.60</td>\n",
              "      <td>21.61</td>\n",
              "      <td>554.36</td>\n",
              "      <td>2388.06</td>\n",
              "      <td>9046.19</td>\n",
              "      <td>47.47</td>\n",
              "      <td>521.66</td>\n",
              "      <td>2388.02</td>\n",
              "      <td>8138.62</td>\n",
              "      <td>8.4195</td>\n",
              "      <td>392</td>\n",
              "      <td>39.06</td>\n",
              "      <td>23.4190</td>\n",
              "      <td>191</td>\n",
              "    </tr>\n",
              "    <tr>\n",
              "      <th>1</th>\n",
              "      <td>1</td>\n",
              "      <td>2</td>\n",
              "      <td>0.0019</td>\n",
              "      <td>-0.0003</td>\n",
              "      <td>642.15</td>\n",
              "      <td>1591.82</td>\n",
              "      <td>1403.14</td>\n",
              "      <td>21.61</td>\n",
              "      <td>553.75</td>\n",
              "      <td>2388.04</td>\n",
              "      <td>9044.07</td>\n",
              "      <td>47.49</td>\n",
              "      <td>522.28</td>\n",
              "      <td>2388.07</td>\n",
              "      <td>8131.49</td>\n",
              "      <td>8.4318</td>\n",
              "      <td>392</td>\n",
              "      <td>39.00</td>\n",
              "      <td>23.4236</td>\n",
              "      <td>190</td>\n",
              "    </tr>\n",
              "    <tr>\n",
              "      <th>2</th>\n",
              "      <td>1</td>\n",
              "      <td>3</td>\n",
              "      <td>-0.0043</td>\n",
              "      <td>0.0003</td>\n",
              "      <td>642.35</td>\n",
              "      <td>1587.99</td>\n",
              "      <td>1404.20</td>\n",
              "      <td>21.61</td>\n",
              "      <td>554.26</td>\n",
              "      <td>2388.08</td>\n",
              "      <td>9052.94</td>\n",
              "      <td>47.27</td>\n",
              "      <td>522.42</td>\n",
              "      <td>2388.03</td>\n",
              "      <td>8133.23</td>\n",
              "      <td>8.4178</td>\n",
              "      <td>390</td>\n",
              "      <td>38.95</td>\n",
              "      <td>23.3442</td>\n",
              "      <td>189</td>\n",
              "    </tr>\n",
              "    <tr>\n",
              "      <th>3</th>\n",
              "      <td>1</td>\n",
              "      <td>4</td>\n",
              "      <td>0.0007</td>\n",
              "      <td>0.0000</td>\n",
              "      <td>642.35</td>\n",
              "      <td>1582.79</td>\n",
              "      <td>1401.87</td>\n",
              "      <td>21.61</td>\n",
              "      <td>554.45</td>\n",
              "      <td>2388.11</td>\n",
              "      <td>9049.48</td>\n",
              "      <td>47.13</td>\n",
              "      <td>522.86</td>\n",
              "      <td>2388.08</td>\n",
              "      <td>8133.83</td>\n",
              "      <td>8.3682</td>\n",
              "      <td>392</td>\n",
              "      <td>38.88</td>\n",
              "      <td>23.3739</td>\n",
              "      <td>188</td>\n",
              "    </tr>\n",
              "    <tr>\n",
              "      <th>4</th>\n",
              "      <td>1</td>\n",
              "      <td>5</td>\n",
              "      <td>-0.0019</td>\n",
              "      <td>-0.0002</td>\n",
              "      <td>642.37</td>\n",
              "      <td>1582.85</td>\n",
              "      <td>1406.22</td>\n",
              "      <td>21.61</td>\n",
              "      <td>554.00</td>\n",
              "      <td>2388.06</td>\n",
              "      <td>9055.15</td>\n",
              "      <td>47.28</td>\n",
              "      <td>522.19</td>\n",
              "      <td>2388.04</td>\n",
              "      <td>8133.80</td>\n",
              "      <td>8.4294</td>\n",
              "      <td>393</td>\n",
              "      <td>38.90</td>\n",
              "      <td>23.4044</td>\n",
              "      <td>187</td>\n",
              "    </tr>\n",
              "    <tr>\n",
              "      <th>...</th>\n",
              "      <td>...</td>\n",
              "      <td>...</td>\n",
              "      <td>...</td>\n",
              "      <td>...</td>\n",
              "      <td>...</td>\n",
              "      <td>...</td>\n",
              "      <td>...</td>\n",
              "      <td>...</td>\n",
              "      <td>...</td>\n",
              "      <td>...</td>\n",
              "      <td>...</td>\n",
              "      <td>...</td>\n",
              "      <td>...</td>\n",
              "      <td>...</td>\n",
              "      <td>...</td>\n",
              "      <td>...</td>\n",
              "      <td>...</td>\n",
              "      <td>...</td>\n",
              "      <td>...</td>\n",
              "      <td>...</td>\n",
              "    </tr>\n",
              "    <tr>\n",
              "      <th>20626</th>\n",
              "      <td>100</td>\n",
              "      <td>196</td>\n",
              "      <td>-0.0004</td>\n",
              "      <td>-0.0003</td>\n",
              "      <td>643.49</td>\n",
              "      <td>1597.98</td>\n",
              "      <td>1428.63</td>\n",
              "      <td>21.61</td>\n",
              "      <td>551.43</td>\n",
              "      <td>2388.19</td>\n",
              "      <td>9065.52</td>\n",
              "      <td>48.07</td>\n",
              "      <td>519.49</td>\n",
              "      <td>2388.26</td>\n",
              "      <td>8137.60</td>\n",
              "      <td>8.4956</td>\n",
              "      <td>397</td>\n",
              "      <td>38.49</td>\n",
              "      <td>22.9735</td>\n",
              "      <td>4</td>\n",
              "    </tr>\n",
              "    <tr>\n",
              "      <th>20627</th>\n",
              "      <td>100</td>\n",
              "      <td>197</td>\n",
              "      <td>-0.0016</td>\n",
              "      <td>-0.0005</td>\n",
              "      <td>643.54</td>\n",
              "      <td>1604.50</td>\n",
              "      <td>1433.58</td>\n",
              "      <td>21.61</td>\n",
              "      <td>550.86</td>\n",
              "      <td>2388.23</td>\n",
              "      <td>9065.11</td>\n",
              "      <td>48.04</td>\n",
              "      <td>519.68</td>\n",
              "      <td>2388.22</td>\n",
              "      <td>8136.50</td>\n",
              "      <td>8.5139</td>\n",
              "      <td>395</td>\n",
              "      <td>38.30</td>\n",
              "      <td>23.1594</td>\n",
              "      <td>3</td>\n",
              "    </tr>\n",
              "    <tr>\n",
              "      <th>20628</th>\n",
              "      <td>100</td>\n",
              "      <td>198</td>\n",
              "      <td>0.0004</td>\n",
              "      <td>0.0000</td>\n",
              "      <td>643.42</td>\n",
              "      <td>1602.46</td>\n",
              "      <td>1428.18</td>\n",
              "      <td>21.61</td>\n",
              "      <td>550.94</td>\n",
              "      <td>2388.24</td>\n",
              "      <td>9065.90</td>\n",
              "      <td>48.09</td>\n",
              "      <td>520.01</td>\n",
              "      <td>2388.24</td>\n",
              "      <td>8141.05</td>\n",
              "      <td>8.5646</td>\n",
              "      <td>398</td>\n",
              "      <td>38.44</td>\n",
              "      <td>22.9333</td>\n",
              "      <td>2</td>\n",
              "    </tr>\n",
              "    <tr>\n",
              "      <th>20629</th>\n",
              "      <td>100</td>\n",
              "      <td>199</td>\n",
              "      <td>-0.0011</td>\n",
              "      <td>0.0003</td>\n",
              "      <td>643.23</td>\n",
              "      <td>1605.26</td>\n",
              "      <td>1426.53</td>\n",
              "      <td>21.61</td>\n",
              "      <td>550.68</td>\n",
              "      <td>2388.25</td>\n",
              "      <td>9073.72</td>\n",
              "      <td>48.39</td>\n",
              "      <td>519.67</td>\n",
              "      <td>2388.23</td>\n",
              "      <td>8139.29</td>\n",
              "      <td>8.5389</td>\n",
              "      <td>395</td>\n",
              "      <td>38.29</td>\n",
              "      <td>23.0640</td>\n",
              "      <td>1</td>\n",
              "    </tr>\n",
              "    <tr>\n",
              "      <th>20630</th>\n",
              "      <td>100</td>\n",
              "      <td>200</td>\n",
              "      <td>-0.0032</td>\n",
              "      <td>-0.0005</td>\n",
              "      <td>643.85</td>\n",
              "      <td>1600.38</td>\n",
              "      <td>1432.14</td>\n",
              "      <td>21.61</td>\n",
              "      <td>550.79</td>\n",
              "      <td>2388.26</td>\n",
              "      <td>9061.48</td>\n",
              "      <td>48.20</td>\n",
              "      <td>519.30</td>\n",
              "      <td>2388.26</td>\n",
              "      <td>8137.33</td>\n",
              "      <td>8.5036</td>\n",
              "      <td>396</td>\n",
              "      <td>38.37</td>\n",
              "      <td>23.0522</td>\n",
              "      <td>0</td>\n",
              "    </tr>\n",
              "  </tbody>\n",
              "</table>\n",
              "<p>20631 rows × 20 columns</p>\n",
              "</div>"
            ],
            "text/plain": [
              "       engine  cycle  op_setting_1  op_setting_2  LPC outlet temperature (◦R)  \\\n",
              "0           1      1       -0.0007       -0.0004                       641.82   \n",
              "1           1      2        0.0019       -0.0003                       642.15   \n",
              "2           1      3       -0.0043        0.0003                       642.35   \n",
              "3           1      4        0.0007        0.0000                       642.35   \n",
              "4           1      5       -0.0019       -0.0002                       642.37   \n",
              "...       ...    ...           ...           ...                          ...   \n",
              "20626     100    196       -0.0004       -0.0003                       643.49   \n",
              "20627     100    197       -0.0016       -0.0005                       643.54   \n",
              "20628     100    198        0.0004        0.0000                       643.42   \n",
              "20629     100    199       -0.0011        0.0003                       643.23   \n",
              "20630     100    200       -0.0032       -0.0005                       643.85   \n",
              "\n",
              "       HPC outlet temperature (◦R)  LPT outlet temperature (◦R)  \\\n",
              "0                          1589.70                      1400.60   \n",
              "1                          1591.82                      1403.14   \n",
              "2                          1587.99                      1404.20   \n",
              "3                          1582.79                      1401.87   \n",
              "4                          1582.85                      1406.22   \n",
              "...                            ...                          ...   \n",
              "20626                      1597.98                      1428.63   \n",
              "20627                      1604.50                      1433.58   \n",
              "20628                      1602.46                      1428.18   \n",
              "20629                      1605.26                      1426.53   \n",
              "20630                      1600.38                      1432.14   \n",
              "\n",
              "       Bypass-duct pressure (psia)  HPC outlet pressure (psia)  \\\n",
              "0                            21.61                      554.36   \n",
              "1                            21.61                      553.75   \n",
              "2                            21.61                      554.26   \n",
              "3                            21.61                      554.45   \n",
              "4                            21.61                      554.00   \n",
              "...                            ...                         ...   \n",
              "20626                        21.61                      551.43   \n",
              "20627                        21.61                      550.86   \n",
              "20628                        21.61                      550.94   \n",
              "20629                        21.61                      550.68   \n",
              "20630                        21.61                      550.79   \n",
              "\n",
              "       Physical fan speed (rpm)  Physical core speed (rpm)  \\\n",
              "0                       2388.06                    9046.19   \n",
              "1                       2388.04                    9044.07   \n",
              "2                       2388.08                    9052.94   \n",
              "3                       2388.11                    9049.48   \n",
              "4                       2388.06                    9055.15   \n",
              "...                         ...                        ...   \n",
              "20626                   2388.19                    9065.52   \n",
              "20627                   2388.23                    9065.11   \n",
              "20628                   2388.24                    9065.90   \n",
              "20629                   2388.25                    9073.72   \n",
              "20630                   2388.26                    9061.48   \n",
              "\n",
              "       HPC outlet Static pressure (psia)  \\\n",
              "0                                  47.47   \n",
              "1                                  47.49   \n",
              "2                                  47.27   \n",
              "3                                  47.13   \n",
              "4                                  47.28   \n",
              "...                                  ...   \n",
              "20626                              48.07   \n",
              "20627                              48.04   \n",
              "20628                              48.09   \n",
              "20629                              48.39   \n",
              "20630                              48.20   \n",
              "\n",
              "       Ratio of fuel flow to Ps30 (pps/psia)  Corrected fan speed (rpm)  \\\n",
              "0                                     521.66                    2388.02   \n",
              "1                                     522.28                    2388.07   \n",
              "2                                     522.42                    2388.03   \n",
              "3                                     522.86                    2388.08   \n",
              "4                                     522.19                    2388.04   \n",
              "...                                      ...                        ...   \n",
              "20626                                 519.49                    2388.26   \n",
              "20627                                 519.68                    2388.22   \n",
              "20628                                 520.01                    2388.24   \n",
              "20629                                 519.67                    2388.23   \n",
              "20630                                 519.30                    2388.26   \n",
              "\n",
              "       Corrected core speed (rpm)  Bypass Ratio  Bleed Enthalpy  \\\n",
              "0                         8138.62        8.4195             392   \n",
              "1                         8131.49        8.4318             392   \n",
              "2                         8133.23        8.4178             390   \n",
              "3                         8133.83        8.3682             392   \n",
              "4                         8133.80        8.4294             393   \n",
              "...                           ...           ...             ...   \n",
              "20626                     8137.60        8.4956             397   \n",
              "20627                     8136.50        8.5139             395   \n",
              "20628                     8141.05        8.5646             398   \n",
              "20629                     8139.29        8.5389             395   \n",
              "20630                     8137.33        8.5036             396   \n",
              "\n",
              "       High-pressure turbines Cool air flow  \\\n",
              "0                                     39.06   \n",
              "1                                     39.00   \n",
              "2                                     38.95   \n",
              "3                                     38.88   \n",
              "4                                     38.90   \n",
              "...                                     ...   \n",
              "20626                                 38.49   \n",
              "20627                                 38.30   \n",
              "20628                                 38.44   \n",
              "20629                                 38.29   \n",
              "20630                                 38.37   \n",
              "\n",
              "       Low-pressure turbines Cool air flow  RUL  \n",
              "0                                  23.4190  191  \n",
              "1                                  23.4236  190  \n",
              "2                                  23.3442  189  \n",
              "3                                  23.3739  188  \n",
              "4                                  23.4044  187  \n",
              "...                                    ...  ...  \n",
              "20626                              22.9735    4  \n",
              "20627                              23.1594    3  \n",
              "20628                              22.9333    2  \n",
              "20629                              23.0640    1  \n",
              "20630                              23.0522    0  \n",
              "\n",
              "[20631 rows x 20 columns]"
            ]
          },
          "execution_count": 5,
          "metadata": {},
          "output_type": "execute_result"
        }
      ],
      "source": [
        "\n",
        "#identifies max cycle for each engine\n",
        "train['max_cycle'] = train.groupby('engine')['cycle'].transform('max')\n",
        "#calculates RUL to each cycle \n",
        "train['RUL'] = train['max_cycle'] - train['cycle']\n",
        "#remove max_cycle col as it is no longer needed\n",
        "train = train.drop('max_cycle', axis=1)\n",
        "train"
      ]
    },
    {
      "cell_type": "code",
      "execution_count": null,
      "metadata": {},
      "outputs": [],
      "source": []
    },
    {
      "cell_type": "markdown",
      "metadata": {},
      "source": [
        "\n",
        "Prepare the test set with RUL labels"
      ]
    },
    {
      "cell_type": "code",
      "execution_count": 6,
      "metadata": {
        "colab": {
          "base_uri": "https://localhost:8080/",
          "height": 444
        },
        "id": "sNhN6Vf1xMBh",
        "outputId": "8f33b4cd-1e56-4220-d4dc-243aeb956489"
      },
      "outputs": [
        {
          "data": {
            "text/html": [
              "<div>\n",
              "<style scoped>\n",
              "    .dataframe tbody tr th:only-of-type {\n",
              "        vertical-align: middle;\n",
              "    }\n",
              "\n",
              "    .dataframe tbody tr th {\n",
              "        vertical-align: top;\n",
              "    }\n",
              "\n",
              "    .dataframe thead th {\n",
              "        text-align: right;\n",
              "    }\n",
              "</style>\n",
              "<table border=\"1\" class=\"dataframe\">\n",
              "  <thead>\n",
              "    <tr style=\"text-align: right;\">\n",
              "      <th></th>\n",
              "      <th>engine</th>\n",
              "      <th>cycle</th>\n",
              "      <th>op_setting_1</th>\n",
              "      <th>op_setting_2</th>\n",
              "      <th>LPC outlet temperature (◦R)</th>\n",
              "      <th>HPC outlet temperature (◦R)</th>\n",
              "      <th>LPT outlet temperature (◦R)</th>\n",
              "      <th>Bypass-duct pressure (psia)</th>\n",
              "      <th>HPC outlet pressure (psia)</th>\n",
              "      <th>Physical fan speed (rpm)</th>\n",
              "      <th>Physical core speed (rpm)</th>\n",
              "      <th>HPC outlet Static pressure (psia)</th>\n",
              "      <th>Ratio of fuel flow to Ps30 (pps/psia)</th>\n",
              "      <th>Corrected fan speed (rpm)</th>\n",
              "      <th>Corrected core speed (rpm)</th>\n",
              "      <th>Bypass Ratio</th>\n",
              "      <th>Bleed Enthalpy</th>\n",
              "      <th>High-pressure turbines Cool air flow</th>\n",
              "      <th>Low-pressure turbines Cool air flow</th>\n",
              "      <th>RUL</th>\n",
              "    </tr>\n",
              "  </thead>\n",
              "  <tbody>\n",
              "    <tr>\n",
              "      <th>0</th>\n",
              "      <td>1</td>\n",
              "      <td>1</td>\n",
              "      <td>0.0023</td>\n",
              "      <td>0.0003</td>\n",
              "      <td>643.02</td>\n",
              "      <td>1585.29</td>\n",
              "      <td>1398.21</td>\n",
              "      <td>21.61</td>\n",
              "      <td>553.90</td>\n",
              "      <td>2388.04</td>\n",
              "      <td>9050.17</td>\n",
              "      <td>47.20</td>\n",
              "      <td>521.72</td>\n",
              "      <td>2388.03</td>\n",
              "      <td>8125.55</td>\n",
              "      <td>8.4052</td>\n",
              "      <td>392</td>\n",
              "      <td>38.86</td>\n",
              "      <td>23.3735</td>\n",
              "      <td>142</td>\n",
              "    </tr>\n",
              "    <tr>\n",
              "      <th>1</th>\n",
              "      <td>1</td>\n",
              "      <td>2</td>\n",
              "      <td>-0.0027</td>\n",
              "      <td>-0.0003</td>\n",
              "      <td>641.71</td>\n",
              "      <td>1588.45</td>\n",
              "      <td>1395.42</td>\n",
              "      <td>21.61</td>\n",
              "      <td>554.85</td>\n",
              "      <td>2388.01</td>\n",
              "      <td>9054.42</td>\n",
              "      <td>47.50</td>\n",
              "      <td>522.16</td>\n",
              "      <td>2388.06</td>\n",
              "      <td>8139.62</td>\n",
              "      <td>8.3803</td>\n",
              "      <td>393</td>\n",
              "      <td>39.02</td>\n",
              "      <td>23.3916</td>\n",
              "      <td>141</td>\n",
              "    </tr>\n",
              "    <tr>\n",
              "      <th>2</th>\n",
              "      <td>1</td>\n",
              "      <td>3</td>\n",
              "      <td>0.0003</td>\n",
              "      <td>0.0001</td>\n",
              "      <td>642.46</td>\n",
              "      <td>1586.94</td>\n",
              "      <td>1401.34</td>\n",
              "      <td>21.61</td>\n",
              "      <td>554.11</td>\n",
              "      <td>2388.05</td>\n",
              "      <td>9056.96</td>\n",
              "      <td>47.50</td>\n",
              "      <td>521.97</td>\n",
              "      <td>2388.03</td>\n",
              "      <td>8130.10</td>\n",
              "      <td>8.4441</td>\n",
              "      <td>393</td>\n",
              "      <td>39.08</td>\n",
              "      <td>23.4166</td>\n",
              "      <td>140</td>\n",
              "    </tr>\n",
              "    <tr>\n",
              "      <th>3</th>\n",
              "      <td>1</td>\n",
              "      <td>4</td>\n",
              "      <td>0.0042</td>\n",
              "      <td>0.0000</td>\n",
              "      <td>642.44</td>\n",
              "      <td>1584.12</td>\n",
              "      <td>1406.42</td>\n",
              "      <td>21.61</td>\n",
              "      <td>554.07</td>\n",
              "      <td>2388.03</td>\n",
              "      <td>9045.29</td>\n",
              "      <td>47.28</td>\n",
              "      <td>521.38</td>\n",
              "      <td>2388.05</td>\n",
              "      <td>8132.90</td>\n",
              "      <td>8.3917</td>\n",
              "      <td>391</td>\n",
              "      <td>39.00</td>\n",
              "      <td>23.3737</td>\n",
              "      <td>139</td>\n",
              "    </tr>\n",
              "    <tr>\n",
              "      <th>4</th>\n",
              "      <td>1</td>\n",
              "      <td>5</td>\n",
              "      <td>0.0014</td>\n",
              "      <td>0.0000</td>\n",
              "      <td>642.51</td>\n",
              "      <td>1587.19</td>\n",
              "      <td>1401.92</td>\n",
              "      <td>21.61</td>\n",
              "      <td>554.16</td>\n",
              "      <td>2388.01</td>\n",
              "      <td>9044.55</td>\n",
              "      <td>47.31</td>\n",
              "      <td>522.15</td>\n",
              "      <td>2388.03</td>\n",
              "      <td>8129.54</td>\n",
              "      <td>8.4031</td>\n",
              "      <td>390</td>\n",
              "      <td>38.99</td>\n",
              "      <td>23.4130</td>\n",
              "      <td>138</td>\n",
              "    </tr>\n",
              "    <tr>\n",
              "      <th>...</th>\n",
              "      <td>...</td>\n",
              "      <td>...</td>\n",
              "      <td>...</td>\n",
              "      <td>...</td>\n",
              "      <td>...</td>\n",
              "      <td>...</td>\n",
              "      <td>...</td>\n",
              "      <td>...</td>\n",
              "      <td>...</td>\n",
              "      <td>...</td>\n",
              "      <td>...</td>\n",
              "      <td>...</td>\n",
              "      <td>...</td>\n",
              "      <td>...</td>\n",
              "      <td>...</td>\n",
              "      <td>...</td>\n",
              "      <td>...</td>\n",
              "      <td>...</td>\n",
              "      <td>...</td>\n",
              "      <td>...</td>\n",
              "    </tr>\n",
              "    <tr>\n",
              "      <th>13091</th>\n",
              "      <td>100</td>\n",
              "      <td>194</td>\n",
              "      <td>0.0049</td>\n",
              "      <td>0.0000</td>\n",
              "      <td>643.24</td>\n",
              "      <td>1599.45</td>\n",
              "      <td>1415.79</td>\n",
              "      <td>21.61</td>\n",
              "      <td>553.41</td>\n",
              "      <td>2388.02</td>\n",
              "      <td>9142.37</td>\n",
              "      <td>47.69</td>\n",
              "      <td>520.69</td>\n",
              "      <td>2388.00</td>\n",
              "      <td>8213.28</td>\n",
              "      <td>8.4715</td>\n",
              "      <td>394</td>\n",
              "      <td>38.65</td>\n",
              "      <td>23.1974</td>\n",
              "      <td>24</td>\n",
              "    </tr>\n",
              "    <tr>\n",
              "      <th>13092</th>\n",
              "      <td>100</td>\n",
              "      <td>195</td>\n",
              "      <td>-0.0011</td>\n",
              "      <td>-0.0001</td>\n",
              "      <td>643.22</td>\n",
              "      <td>1595.69</td>\n",
              "      <td>1422.05</td>\n",
              "      <td>21.61</td>\n",
              "      <td>553.22</td>\n",
              "      <td>2388.05</td>\n",
              "      <td>9140.68</td>\n",
              "      <td>47.60</td>\n",
              "      <td>521.05</td>\n",
              "      <td>2388.09</td>\n",
              "      <td>8210.85</td>\n",
              "      <td>8.4512</td>\n",
              "      <td>395</td>\n",
              "      <td>38.57</td>\n",
              "      <td>23.2771</td>\n",
              "      <td>23</td>\n",
              "    </tr>\n",
              "    <tr>\n",
              "      <th>13093</th>\n",
              "      <td>100</td>\n",
              "      <td>196</td>\n",
              "      <td>-0.0006</td>\n",
              "      <td>-0.0003</td>\n",
              "      <td>643.44</td>\n",
              "      <td>1593.15</td>\n",
              "      <td>1406.82</td>\n",
              "      <td>21.61</td>\n",
              "      <td>553.04</td>\n",
              "      <td>2388.11</td>\n",
              "      <td>9146.81</td>\n",
              "      <td>47.57</td>\n",
              "      <td>521.18</td>\n",
              "      <td>2388.04</td>\n",
              "      <td>8217.24</td>\n",
              "      <td>8.4569</td>\n",
              "      <td>395</td>\n",
              "      <td>38.62</td>\n",
              "      <td>23.2051</td>\n",
              "      <td>22</td>\n",
              "    </tr>\n",
              "    <tr>\n",
              "      <th>13094</th>\n",
              "      <td>100</td>\n",
              "      <td>197</td>\n",
              "      <td>-0.0038</td>\n",
              "      <td>0.0001</td>\n",
              "      <td>643.26</td>\n",
              "      <td>1594.99</td>\n",
              "      <td>1419.36</td>\n",
              "      <td>21.61</td>\n",
              "      <td>553.37</td>\n",
              "      <td>2388.07</td>\n",
              "      <td>9148.85</td>\n",
              "      <td>47.61</td>\n",
              "      <td>521.33</td>\n",
              "      <td>2388.08</td>\n",
              "      <td>8220.48</td>\n",
              "      <td>8.4711</td>\n",
              "      <td>395</td>\n",
              "      <td>38.66</td>\n",
              "      <td>23.2699</td>\n",
              "      <td>21</td>\n",
              "    </tr>\n",
              "    <tr>\n",
              "      <th>13095</th>\n",
              "      <td>100</td>\n",
              "      <td>198</td>\n",
              "      <td>0.0013</td>\n",
              "      <td>0.0003</td>\n",
              "      <td>642.95</td>\n",
              "      <td>1601.62</td>\n",
              "      <td>1424.99</td>\n",
              "      <td>21.61</td>\n",
              "      <td>552.48</td>\n",
              "      <td>2388.06</td>\n",
              "      <td>9155.03</td>\n",
              "      <td>47.80</td>\n",
              "      <td>521.07</td>\n",
              "      <td>2388.05</td>\n",
              "      <td>8214.64</td>\n",
              "      <td>8.4903</td>\n",
              "      <td>396</td>\n",
              "      <td>38.70</td>\n",
              "      <td>23.1855</td>\n",
              "      <td>20</td>\n",
              "    </tr>\n",
              "  </tbody>\n",
              "</table>\n",
              "<p>13096 rows × 20 columns</p>\n",
              "</div>"
            ],
            "text/plain": [
              "       engine  cycle  op_setting_1  op_setting_2  LPC outlet temperature (◦R)  \\\n",
              "0           1      1        0.0023        0.0003                       643.02   \n",
              "1           1      2       -0.0027       -0.0003                       641.71   \n",
              "2           1      3        0.0003        0.0001                       642.46   \n",
              "3           1      4        0.0042        0.0000                       642.44   \n",
              "4           1      5        0.0014        0.0000                       642.51   \n",
              "...       ...    ...           ...           ...                          ...   \n",
              "13091     100    194        0.0049        0.0000                       643.24   \n",
              "13092     100    195       -0.0011       -0.0001                       643.22   \n",
              "13093     100    196       -0.0006       -0.0003                       643.44   \n",
              "13094     100    197       -0.0038        0.0001                       643.26   \n",
              "13095     100    198        0.0013        0.0003                       642.95   \n",
              "\n",
              "       HPC outlet temperature (◦R)  LPT outlet temperature (◦R)  \\\n",
              "0                          1585.29                      1398.21   \n",
              "1                          1588.45                      1395.42   \n",
              "2                          1586.94                      1401.34   \n",
              "3                          1584.12                      1406.42   \n",
              "4                          1587.19                      1401.92   \n",
              "...                            ...                          ...   \n",
              "13091                      1599.45                      1415.79   \n",
              "13092                      1595.69                      1422.05   \n",
              "13093                      1593.15                      1406.82   \n",
              "13094                      1594.99                      1419.36   \n",
              "13095                      1601.62                      1424.99   \n",
              "\n",
              "       Bypass-duct pressure (psia)  HPC outlet pressure (psia)  \\\n",
              "0                            21.61                      553.90   \n",
              "1                            21.61                      554.85   \n",
              "2                            21.61                      554.11   \n",
              "3                            21.61                      554.07   \n",
              "4                            21.61                      554.16   \n",
              "...                            ...                         ...   \n",
              "13091                        21.61                      553.41   \n",
              "13092                        21.61                      553.22   \n",
              "13093                        21.61                      553.04   \n",
              "13094                        21.61                      553.37   \n",
              "13095                        21.61                      552.48   \n",
              "\n",
              "       Physical fan speed (rpm)  Physical core speed (rpm)  \\\n",
              "0                       2388.04                    9050.17   \n",
              "1                       2388.01                    9054.42   \n",
              "2                       2388.05                    9056.96   \n",
              "3                       2388.03                    9045.29   \n",
              "4                       2388.01                    9044.55   \n",
              "...                         ...                        ...   \n",
              "13091                   2388.02                    9142.37   \n",
              "13092                   2388.05                    9140.68   \n",
              "13093                   2388.11                    9146.81   \n",
              "13094                   2388.07                    9148.85   \n",
              "13095                   2388.06                    9155.03   \n",
              "\n",
              "       HPC outlet Static pressure (psia)  \\\n",
              "0                                  47.20   \n",
              "1                                  47.50   \n",
              "2                                  47.50   \n",
              "3                                  47.28   \n",
              "4                                  47.31   \n",
              "...                                  ...   \n",
              "13091                              47.69   \n",
              "13092                              47.60   \n",
              "13093                              47.57   \n",
              "13094                              47.61   \n",
              "13095                              47.80   \n",
              "\n",
              "       Ratio of fuel flow to Ps30 (pps/psia)  Corrected fan speed (rpm)  \\\n",
              "0                                     521.72                    2388.03   \n",
              "1                                     522.16                    2388.06   \n",
              "2                                     521.97                    2388.03   \n",
              "3                                     521.38                    2388.05   \n",
              "4                                     522.15                    2388.03   \n",
              "...                                      ...                        ...   \n",
              "13091                                 520.69                    2388.00   \n",
              "13092                                 521.05                    2388.09   \n",
              "13093                                 521.18                    2388.04   \n",
              "13094                                 521.33                    2388.08   \n",
              "13095                                 521.07                    2388.05   \n",
              "\n",
              "       Corrected core speed (rpm)  Bypass Ratio  Bleed Enthalpy  \\\n",
              "0                         8125.55        8.4052             392   \n",
              "1                         8139.62        8.3803             393   \n",
              "2                         8130.10        8.4441             393   \n",
              "3                         8132.90        8.3917             391   \n",
              "4                         8129.54        8.4031             390   \n",
              "...                           ...           ...             ...   \n",
              "13091                     8213.28        8.4715             394   \n",
              "13092                     8210.85        8.4512             395   \n",
              "13093                     8217.24        8.4569             395   \n",
              "13094                     8220.48        8.4711             395   \n",
              "13095                     8214.64        8.4903             396   \n",
              "\n",
              "       High-pressure turbines Cool air flow  \\\n",
              "0                                     38.86   \n",
              "1                                     39.02   \n",
              "2                                     39.08   \n",
              "3                                     39.00   \n",
              "4                                     38.99   \n",
              "...                                     ...   \n",
              "13091                                 38.65   \n",
              "13092                                 38.57   \n",
              "13093                                 38.62   \n",
              "13094                                 38.66   \n",
              "13095                                 38.70   \n",
              "\n",
              "       Low-pressure turbines Cool air flow  RUL  \n",
              "0                                  23.3735  142  \n",
              "1                                  23.3916  141  \n",
              "2                                  23.4166  140  \n",
              "3                                  23.3737  139  \n",
              "4                                  23.4130  138  \n",
              "...                                    ...  ...  \n",
              "13091                              23.1974   24  \n",
              "13092                              23.2771   23  \n",
              "13093                              23.2051   22  \n",
              "13094                              23.2699   21  \n",
              "13095                              23.1855   20  \n",
              "\n",
              "[13096 rows x 20 columns]"
            ]
          },
          "execution_count": 6,
          "metadata": {},
          "output_type": "execute_result"
        }
      ],
      "source": [
        "#load true RUL values from RUL_FD001.txt\n",
        "rul_values= rul['RUL'].values\n",
        "\n",
        "#find the last cycle (max_cycle) for each engine in the test set\n",
        "test['max_cycle'] = test.groupby('engine')['cycle'].transform('max')\n",
        "\n",
        "#we create a new dataframe test_rul to facilitate the merge operation\n",
        "#it contains each engine, its max_cycle and the corresponding true RUL value\n",
        "test_rul = pd.DataFrame({\"engine\": test['engine'].unique(), \"max_cycle\": test.groupby('engine')['cycle'].max().values, \"true_RUL\": rul_values})\n",
        "\n",
        "#merge this mapping back to the test set\n",
        "test= test.merge(test_rul, on=['engine', 'max_cycle'], how='left')\n",
        "test['RUL'] = test['true_RUL'] + (test['max_cycle'] - test['cycle']) #this computation gives the RUL for each cycle in the test set (decreases linearly)\n",
        "test= test.drop(columns=['max_cycle', 'true_RUL'])\n",
        "test\n"
      ]
    },
    {
      "cell_type": "markdown",
      "metadata": {
        "id": "bVA_y7J0zL5L"
      },
      "source": [
        "## Exploratory Plots"
      ]
    },
    {
      "cell_type": "code",
      "execution_count": null,
      "metadata": {
        "colab": {
          "base_uri": "https://localhost:8080/",
          "height": 472
        },
        "id": "yp8vUPTKzRvn",
        "outputId": "aef44ddc-e5df-40e2-8fb9-8157aea0a2f6"
      },
      "outputs": [],
      "source": [
        "plt.hist(train['RUL'], bins=50)\n",
        "plt.xlabel(\"RUL\")\n",
        "plt.ylabel(\"Frequency\")\n",
        "plt.title(\"Distribution of RUL in training set\")\n",
        "plt.show()"
      ]
    },
    {
      "cell_type": "code",
      "execution_count": null,
      "metadata": {
        "colab": {
          "base_uri": "https://localhost:8080/",
          "height": 644
        },
        "id": "jOzQDlNUzW6W",
        "outputId": "93b2ecde-3f8b-4c84-dd8b-28281794d712"
      },
      "outputs": [],
      "source": [
        "plt.figure(figsize=(12,8))\n",
        "sns.heatmap(train.drop(columns=['engine','cycle','RUL']).corr(), cmap=\"coolwarm\")\n",
        "plt.title(\"Sensor correlation heatmap\")\n",
        "plt.show()"
      ]
    },
    {
      "cell_type": "markdown",
      "metadata": {},
      "source": [
        "## Milestone 2:"
      ]
    },
    {
      "cell_type": "markdown",
      "metadata": {
        "id": "wxtWGjJoYx2U"
      },
      "source": [
        "### Simple Feature engineering"
      ]
    },
    {
      "cell_type": "code",
      "execution_count": 7,
      "metadata": {
        "id": "GQtisuSsYtKs"
      },
      "outputs": [],
      "source": [
        "scaler = MinMaxScaler()\n",
        "sensor_cols = [c for c in train.columns if c not in ['engine','cycle','RUL','op_setting_1','op_setting_2']]\n",
        "\n",
        "train[sensor_cols] = scaler.fit_transform(train[sensor_cols])\n",
        "test[sensor_cols] = scaler.transform(test[sensor_cols])"
      ]
    },
    {
      "cell_type": "markdown",
      "metadata": {},
      "source": [
        "### Time-series Analysis"
      ]
    },
    {
      "cell_type": "markdown",
      "metadata": {
        "id": "umuJpkiG0q1r"
      },
      "source": [
        "rolling mean with window = 3 (look back 3 cycles each time), smoother and shows actual trends\n",
        "Rolling standard deviation (std) → measures variability\n",
        "\n",
        "If it’s high, the engine is unstable\n",
        "\n",
        "Rolling min/max → captures recent extremes\n",
        "\n",
        "Rolling sum → cumulative signal in the last N cycles"
      ]
    },
    {
      "cell_type": "code",
      "execution_count": 8,
      "metadata": {
        "colab": {
          "base_uri": "https://localhost:8080/"
        },
        "id": "Bk2aiDGvYv5N",
        "outputId": "60fdf7e5-b2e4-4a20-cbc8-089b31df08d9"
      },
      "outputs": [
        {
          "name": "stdout",
          "output_type": "stream",
          "text": [
            "Useful sensors: ['LPC outlet temperature (◦R)', 'HPC outlet temperature (◦R)', 'LPT outlet temperature (◦R)', 'Bypass-duct pressure (psia)', 'HPC outlet pressure (psia)', 'Physical fan speed (rpm)', 'Physical core speed (rpm)', 'HPC outlet Static pressure (psia)', 'Ratio of fuel flow to Ps30 (pps/psia)', 'Corrected fan speed (rpm)', 'Corrected core speed (rpm)', 'Bypass Ratio', 'Bleed Enthalpy', 'High-pressure turbines Cool air flow', 'Low-pressure turbines Cool air flow']\n"
          ]
        }
      ],
      "source": [
        "\n",
        "useful_sensors = [col for col in sensor_cols if col not in constant_cols]\n",
        "print(\"Useful sensors:\", useful_sensors)\n"
      ]
    },
    {
      "cell_type": "code",
      "execution_count": 9,
      "metadata": {
        "id": "uodwwnSt1_jo"
      },
      "outputs": [],
      "source": [
        "#short term trends\n",
        "for col in useful_sensors:\n",
        "    train[col+'_avg5'] = train.groupby('engine')[col].rolling(window=5, min_periods=1).mean().reset_index(0,drop=True)\n",
        "    test[col+'_avg5'] = test.groupby('engine')[col].rolling(window=5, min_periods=1).mean().reset_index(0,drop=True)"
      ]
    },
    {
      "cell_type": "code",
      "execution_count": 10,
      "metadata": {
        "id": "UfmVjIJR2Maf"
      },
      "outputs": [],
      "source": [
        "for col in useful_sensors:\n",
        "    train[col+'_std5'] = train.groupby('engine')[col].rolling(window=5, min_periods=1).std().reset_index(0,drop=True)\n",
        "    test[col+'_std5'] = test.groupby('engine')[col].rolling(window=5, min_periods=1).std().reset_index(0,drop=True)"
      ]
    },
    {
      "cell_type": "code",
      "execution_count": 11,
      "metadata": {},
      "outputs": [],
      "source": [
        "#long term trends\n",
        "for col in useful_sensors:  \n",
        "    train[col+'_avg20'] = train.groupby('engine')[col].rolling(window=20, min_periods=1).mean().reset_index(0,drop=True)\n",
        "    test[col+'_avg20'] = test.groupby('engine')[col].rolling(window=20, min_periods=1).mean().reset_index(0,drop=True)"
      ]
    },
    {
      "cell_type": "code",
      "execution_count": 12,
      "metadata": {
        "id": "V6odW3BH2Sb3"
      },
      "outputs": [],
      "source": [
        "#delta features see how fast things change\n",
        "for col in useful_sensors:\n",
        "    train[col+'_diff'] = train.groupby('engine')[col].diff().fillna(0)\n",
        "    test[col+'_diff'] = test.groupby('engine')[col].diff().fillna(0)"
      ]
    },
    {
      "cell_type": "code",
      "execution_count": 13,
      "metadata": {
        "id": "JFUK7YyZ2cZq"
      },
      "outputs": [],
      "source": [
        "train['cycle_norm'] = train['cycle'] / train.groupby('engine')['cycle'].transform('max')\n",
        "test['cycle_norm']  = test['cycle'] / test.groupby('engine')['cycle'].transform('max')"
      ]
    },
    {
      "cell_type": "markdown",
      "metadata": {},
      "source": [
        "Features so far: \n",
        "\n",
        "- Rolling means (5, 20 cycles)\n",
        "\n",
        "- Rolling std (5 cycles)\n",
        "\n",
        "- Diff features (rate of change)\n",
        "\n",
        "- Cycle normalization\n"
      ]
    },
    {
      "cell_type": "code",
      "execution_count": null,
      "metadata": {
        "id": "47Il4tua2fnd"
      },
      "outputs": [],
      "source": [
        "\n",
        "engine_id = 1\n",
        "sensor = useful_sensors[0] \n",
        "\n",
        "unit_df = train[train['engine'] == engine_id]\n",
        "\n",
        "plt.figure(figsize=(12,6))\n",
        "plt.plot(unit_df['cycle'], unit_df[sensor], label='Raw', alpha=0.6)\n",
        "plt.plot(unit_df['cycle'], unit_df[sensor+'_avg5'], label='Rolling Avg (5)', linewidth=2)\n",
        "plt.plot(unit_df['cycle'], unit_df[sensor+'_avg20'], label='Rolling Avg (20)', linewidth=2)\n",
        "plt.fill_between(unit_df['cycle'],\n",
        "                 unit_df[sensor+'_avg5'] - unit_df[sensor+'_std5'],\n",
        "                 unit_df[sensor+'_avg5'] + unit_df[sensor+'_std5'],\n",
        "                 color='gray', alpha=0.2, label='±1 Std (5)')\n",
        "plt.xlabel(\"Cycle\")\n",
        "plt.ylabel(\"Sensor Value\")\n",
        "plt.title(f\"{sensor} - Raw vs Rolling Features (Engine {engine_id})\")\n",
        "plt.legend()\n",
        "plt.show()\n"
      ]
    },
    {
      "cell_type": "markdown",
      "metadata": {},
      "source": [
        "Degradation trends of all useful sensors across engines\n",
        "\n",
        "For each sensor, i plotted its 20-cycle rolling average (_avg20) against Remaining Useful Life (RUL) for every 10th engine\n",
        "\n",
        "RUL decreases from left to right, approaching failure at RUL = 0."
      ]
    },
    {
      "cell_type": "code",
      "execution_count": null,
      "metadata": {},
      "outputs": [],
      "source": [
        "n = len(useful_sensors)\n",
        "rows = (n // 3)\n",
        "fig, axes = plt.subplots(rows, 3, figsize=(15, rows*4))\n",
        "axes = axes.flatten()\n",
        "\n",
        "for i, sensor in enumerate(useful_sensors):\n",
        "    for engine_id in sorted(train['engine'].unique()):\n",
        "        if engine_id % 10 == 0:\n",
        "            engine_df = train[train['engine'] == engine_id]\n",
        "            axes[i].plot(engine_df['RUL'], engine_df[sensor+'_avg20'], alpha=0.6, label=f\"Engine {engine_id}\")\n",
        "    axes[i].set_title(sensor)\n",
        "    axes[i].set_xlim(250, 0)\n",
        "    axes[i].set_xlabel(\"Remaining Useful Life (RUL)\")\n",
        "    axes[i].set_ylabel(sensor + \"_avg20\")\n",
        "    axes[i].legend(fontsize=6, loc=\"upper left\") \n",
        "\n",
        "plt.tight_layout()\n",
        "plt.show()\n"
      ]
    },
    {
      "cell_type": "markdown",
      "metadata": {},
      "source": [
        "Produces same results but separately "
      ]
    },
    {
      "cell_type": "code",
      "execution_count": null,
      "metadata": {},
      "outputs": [],
      "source": [
        "def plot_sensor_trend(df, sensor_col):\n",
        "    plt.figure(figsize=(8,6))\n",
        "\n",
        "    for engine_id in sorted(df['engine'].unique()):\n",
        "        if engine_id % 10 == 0:\n",
        "            engine_df = df[df['engine'] == engine_id]\n",
        "            plt.plot(engine_df['RUL'], engine_df[sensor_col+'_avg20'], label=f'Engine {engine_id}')\n",
        "\n",
        "    plt.xlim(250, 0)  \n",
        "    plt.xticks(np.arange(0, 300, 25))\n",
        "    plt.xlabel(\"Remaining Useful Life (RUL)\")\n",
        "    plt.ylabel(sensor_col + \"_avg20\")\n",
        "    plt.title(f\"{sensor_col} (20-cycle rolling mean) across engines\")\n",
        "    plt.legend()\n",
        "    plt.show()\n"
      ]
    },
    {
      "cell_type": "code",
      "execution_count": null,
      "metadata": {},
      "outputs": [],
      "source": [
        "for sensor in useful_sensors:\n",
        "    plot_sensor_trend(train, sensor)\n",
        "\n"
      ]
    },
    {
      "cell_type": "markdown",
      "metadata": {},
      "source": [
        "Sensors that exhibit clear downward or upward trends as RUL approaches zero are more informative for Remaining Useful Life prediction. Conversely, sensors that remain flat or noisy across engines are less useful and may be excluded from the final feature set"
      ]
    },
    {
      "cell_type": "markdown",
      "metadata": {},
      "source": [
        "Top sensors most correlated with Remaining Useful Life (RUL)"
      ]
    },
    {
      "cell_type": "markdown",
      "metadata": {},
      "source": [
        "This approach reduces clutter while still capturing representative degradation patterns across the fleet"
      ]
    },
    {
      "cell_type": "markdown",
      "metadata": {},
      "source": [
        "Likely strong candidates for predictive modeling"
      ]
    },
    {
      "cell_type": "code",
      "execution_count": 14,
      "metadata": {},
      "outputs": [
        {
          "name": "stdout",
          "output_type": "stream",
          "text": [
            "Top sensors correlated with RUL: ['HPC outlet Static pressure (psia)', 'LPT outlet temperature (◦R)', 'Ratio of fuel flow to Ps30 (pps/psia)', 'HPC outlet pressure (psia)', 'Bypass Ratio', 'Low-pressure turbines Cool air flow', 'High-pressure turbines Cool air flow']\n"
          ]
        }
      ],
      "source": [
        "\n",
        "corrs = train[useful_sensors + ['RUL']].corr()['RUL'].drop('RUL').abs()\n",
        "top_sensors = corrs.sort_values(ascending=False).head(7).index.tolist()\n",
        "print(\"Top sensors correlated with RUL:\", top_sensors)\n"
      ]
    },
    {
      "cell_type": "code",
      "execution_count": null,
      "metadata": {},
      "outputs": [],
      "source": [
        "\n",
        "n = len(top_sensors)\n",
        "rows = (n // 3) + 1 \n",
        "fig, axes = plt.subplots(rows, 3, figsize=(15, rows*4))\n",
        "axes = axes.flatten()\n",
        "\n",
        "for i, sensor in enumerate(top_sensors):\n",
        "    for engine_id in sorted(train['engine'].unique()):\n",
        "        if engine_id % 10 == 0:  \n",
        "            engine_df = train[train['engine'] == engine_id]\n",
        "            axes[i].plot(engine_df['RUL'], engine_df[sensor+'_avg20'], alpha=0.6)\n",
        "    axes[i].set_title(f\"{sensor} (rolling avg20)\")\n",
        "    axes[i].set_xlim(250, 0)\n",
        "\n",
        "for j in range(i+1, len(axes)):\n",
        "    axes[j].axis(\"off\")\n",
        "\n",
        "plt.tight_layout()\n",
        "plt.show()\n"
      ]
    },
    {
      "cell_type": "markdown",
      "metadata": {},
      "source": [
        "## Milestone 3:"
      ]
    },
    {
      "cell_type": "markdown",
      "metadata": {},
      "source": [
        "### 1st workflow:\n",
        "\n",
        "correlation filtering --> random forest regressor / xgboost  --> evaluation"
      ]
    },
    {
      "cell_type": "markdown",
      "metadata": {},
      "source": [
        "Correlation filtering removes redundancy"
      ]
    },
    {
      "cell_type": "code",
      "execution_count": 15,
      "metadata": {},
      "outputs": [
        {
          "name": "stdout",
          "output_type": "stream",
          "text": [
            "Features before correlation filtering: (20631, 81)\n",
            "Remaining features after correlation filtering: (20631, 59)\n"
          ]
        }
      ],
      "source": [
        "print(\"Features before correlation filtering:\", train.shape)\n",
        "X = train.drop(columns=['engine','cycle','RUL'])\n",
        "y = train['RUL']\n",
        "\n",
        "\n",
        "corr_matrix = X.corr().abs()\n",
        "upper = corr_matrix.where(np.triu(np.ones(corr_matrix.shape), k=1).astype(bool))\n",
        "to_drop = [column for column in upper.columns if any(upper[column] > 0.95)]\n",
        "X_corr_filtered = X.drop(columns=to_drop)\n",
        "\n",
        "\n",
        "print(\"Remaining features after correlation filtering:\", X_corr_filtered.shape)\n"
      ]
    },
    {
      "cell_type": "code",
      "execution_count": 16,
      "metadata": {},
      "outputs": [
        {
          "data": {
            "text/plain": [
              "LPC outlet temperature (◦R)_std5              100\n",
              "HPC outlet temperature (◦R)_std5              100\n",
              "LPT outlet temperature (◦R)_std5              100\n",
              "Bypass-duct pressure (psia)_std5              100\n",
              "HPC outlet pressure (psia)_std5               100\n",
              "Physical fan speed (rpm)_std5                 100\n",
              "Physical core speed (rpm)_std5                100\n",
              "HPC outlet Static pressure (psia)_std5        100\n",
              "Ratio of fuel flow to Ps30 (pps/psia)_std5    100\n",
              "Corrected fan speed (rpm)_std5                100\n",
              "Corrected core speed (rpm)_std5               100\n",
              "Bypass Ratio_std5                             100\n",
              "Bleed Enthalpy_std5                           100\n",
              "High-pressure turbines Cool air flow_std5     100\n",
              "Low-pressure turbines Cool air flow_std5      100\n",
              "dtype: int64"
            ]
          },
          "execution_count": 16,
          "metadata": {},
          "output_type": "execute_result"
        }
      ],
      "source": [
        "X_corr_filtered.isna().sum()[X_corr_filtered.isna().sum() > 0]"
      ]
    },
    {
      "cell_type": "markdown",
      "metadata": {},
      "source": [
        "_std5 features created with rolling std need previous rows, so early ones are NaN, Each engine contributes 4 missing values, totaling ~100"
      ]
    },
    {
      "cell_type": "code",
      "execution_count": 17,
      "metadata": {},
      "outputs": [],
      "source": [
        "\n",
        "combined = pd.concat([X_corr_filtered, y], axis=1).dropna()\n",
        "X_corr_filtered = combined.drop(columns=['RUL'])\n",
        "y = combined['RUL'] # we update y to match the filtered X to avoid misalignment due to dropped rows\n"
      ]
    },
    {
      "cell_type": "markdown",
      "metadata": {},
      "source": [
        "### 2nd workflow\n",
        "\n"
      ]
    },
    {
      "cell_type": "markdown",
      "metadata": {},
      "source": [
        "corr filtering --> pca --> modeling --> evaluation"
      ]
    },
    {
      "cell_type": "code",
      "execution_count": 15,
      "metadata": {},
      "outputs": [
        {
          "name": "stdout",
          "output_type": "stream",
          "text": [
            "Original features: 59\n",
            "Reduced features: 21\n"
          ]
        },
        {
          "data": {
            "image/png": "[encoded data removed]",
            "text/plain": [
              "<Figure size 640x480 with 1 Axes>"
            ]
          },
          "metadata": {},
          "output_type": "display_data"
        }
      ],
      "source": [
        "\n",
        "pca = PCA(n_components=0.95)  \n",
        "X_pca = pca.fit_transform(X_corr_filtered)\n",
        "\n",
        "print(\"Original features:\", X_corr_filtered.shape[1])\n",
        "print(\"Reduced features:\", X_pca.shape[1])\n",
        "\n",
        "plt.plot(np.cumsum(pca.explained_variance_ratio_))\n",
        "plt.xlabel(\"Number of Components\")\n",
        "plt.ylabel(\"Cumulative Explained Variance\")\n",
        "plt.title(\"PCA Scree Plot\")\n",
        "plt.show()"
      ]
    },
    {
      "cell_type": "code",
      "execution_count": 19,
      "metadata": {},
      "outputs": [
        {
          "ename": "NameError",
          "evalue": "name 'X_pca' is not defined",
          "output_type": "error",
          "traceback": [
            "\u001b[31m---------------------------------------------------------------------------\u001b[39m",
            "\u001b[31mNameError\u001b[39m                                 Traceback (most recent call last)",
            "\u001b[36mCell\u001b[39m\u001b[36m \u001b[39m\u001b[32mIn[19]\u001b[39m\u001b[32m, line 3\u001b[39m\n\u001b[32m      1\u001b[39m y = combined[\u001b[33m'\u001b[39m\u001b[33mRUL\u001b[39m\u001b[33m'\u001b[39m]\n\u001b[32m      2\u001b[39m X_train, X_val, y_train, y_val = train_test_split(\n\u001b[32m----> \u001b[39m\u001b[32m3\u001b[39m     \u001b[43mX_pca\u001b[49m, y, test_size=\u001b[32m0.2\u001b[39m, random_state=\u001b[32m42\u001b[39m\n\u001b[32m      4\u001b[39m )\n",
            "\u001b[31mNameError\u001b[39m: name 'X_pca' is not defined"
          ]
        }
      ],
      "source": [
        "y = combined['RUL']\n",
        "X_train, X_val, y_train, y_val = train_test_split(\n",
        "    X_pca, y, test_size=0.2, random_state=42\n",
        ")"
      ]
    },
    {
      "cell_type": "code",
      "execution_count": 18,
      "metadata": {},
      "outputs": [
        {
          "name": "stdout",
          "output_type": "stream",
          "text": [
            "XGBoost (Correlation Filtered Features)\n",
            "RMSE: 27.940974554979846\n",
            "MAE: 19.42732048034668\n",
            "R2: 0.8280348181724548\n"
          ]
        }
      ],
      "source": [
        "xgb_model = xgb.XGBRegressor(\n",
        "    n_estimators=500,\n",
        "    learning_rate=0.05,\n",
        "    max_depth=6,\n",
        "    subsample=0.8,\n",
        "    colsample_bytree=0.8,\n",
        "    random_state=42,\n",
        "    n_jobs=-1,\n",
        "    early_stopping_rounds=50\n",
        ")\n",
        "\n",
        "xgb_model.fit(X_train, y_train, eval_set=[(X_val, y_val)], verbose=False)\n",
        "\n",
        "y_pred = xgb_model.predict(X_val)\n",
        "\n",
        "rmse = np.sqrt(mean_squared_error(y_val, y_pred))\n",
        "mae = mean_absolute_error(y_val, y_pred)\n",
        "r2 = r2_score(y_val, y_pred)\n",
        "\n",
        "print(\"XGBoost (Correlation Filtered Features)\")\n",
        "print(\"RMSE:\", rmse)\n",
        "print(\"MAE:\", mae)\n",
        "print(\"R2:\", r2)"
      ]
    },
    {
      "cell_type": "code",
      "execution_count": 18,
      "metadata": {},
      "outputs": [
        {
          "name": "stdout",
          "output_type": "stream",
          "text": [
            "Random Forest (Correlation Filtered Features)\n",
            "RMSE: 28.421945390248233\n",
            "MAE: 19.795517409301194\n",
            "R2: 0.8220635045793298\n"
          ]
        }
      ],
      "source": [
        "rf = RandomForestRegressor(n_estimators=100, random_state=42)\n",
        "rf.fit(X_train, y_train)\n",
        "\n",
        "y_pred = rf.predict(X_val)\n",
        "\n",
        "rmse = np.sqrt(mean_squared_error(y_val, y_pred))\n",
        "mae = mean_absolute_error(y_val, y_pred)\n",
        "r2 = r2_score(y_val, y_pred)\n",
        "\n",
        "print(\"Random Forest (Correlation Filtered Features)\")\n",
        "print(\"RMSE:\", rmse)\n",
        "print(\"MAE:\", mae)\n",
        "print(\"R2:\", r2)"
      ]
    },
    {
      "cell_type": "markdown",
      "metadata": {},
      "source": [
        "### 3rd workflow"
      ]
    },
    {
      "cell_type": "markdown",
      "metadata": {},
      "source": [
        "correlation filtering --> modeling --> optimization --> evaluation"
      ]
    },
    {
      "cell_type": "code",
      "execution_count": 15,
      "metadata": {},
      "outputs": [
        {
          "name": "stdout",
          "output_type": "stream",
          "text": [
            "Features before correlation filtering: (20631, 81)\n",
            "Dropping these correlated features: ['Corrected core speed (rpm)', 'Physical core speed (rpm)_avg5', 'HPC outlet Static pressure (psia)_avg5', 'Ratio of fuel flow to Ps30 (pps/psia)_avg5', 'Corrected fan speed (rpm)_avg5', 'Corrected core speed (rpm)_avg5', 'LPC outlet temperature (◦R)_avg20', 'LPT outlet temperature (◦R)_avg20', 'HPC outlet pressure (psia)_avg20', 'Physical fan speed (rpm)_avg20', 'Physical core speed (rpm)_avg20', 'HPC outlet Static pressure (psia)_avg20', 'Ratio of fuel flow to Ps30 (pps/psia)_avg20', 'Corrected fan speed (rpm)_avg20', 'Corrected core speed (rpm)_avg20', 'Bypass Ratio_avg20', 'Bleed Enthalpy_avg20', 'High-pressure turbines Cool air flow_avg20', 'Low-pressure turbines Cool air flow_avg20']\n",
            "Remaining features after correlation filtering: (20631, 59)\n"
          ]
        }
      ],
      "source": [
        "print(\"Features before correlation filtering:\", train.shape)\n",
        "X = train.drop(columns=['engine','cycle','RUL'])\n",
        "\n",
        "corr_matrix = X.corr().abs()\n",
        "\n",
        "upper = corr_matrix.where(\n",
        "    np.triu(np.ones(corr_matrix.shape), k=1).astype(bool)\n",
        ")\n",
        "\n",
        "to_drop = [column for column in upper.columns if any(upper[column] > 0.95)]\n",
        "print(\"Dropping these correlated features:\", to_drop)\n",
        "\n",
        "X_corr_filtered = X.drop(columns=to_drop)\n",
        "print(\"Remaining features after correlation filtering:\", X_corr_filtered.shape)"
      ]
    },
    {
      "cell_type": "code",
      "execution_count": 16,
      "metadata": {},
      "outputs": [],
      "source": [
        "y = train['RUL']\n",
        "\n",
        "X_train, X_val, y_train, y_val = train_test_split(\n",
        "    X_corr_filtered, y, test_size=0.2, random_state=42\n",
        ")"
      ]
    },
    {
      "cell_type": "code",
      "execution_count": 17,
      "metadata": {},
      "outputs": [
        {
          "name": "stdout",
          "output_type": "stream",
          "text": [
            "Fitting 3 folds for each of 20 candidates, totalling 60 fits\n",
            "Best Parameters: {'n_estimators': 600, 'min_samples_split': 2, 'min_samples_leaf': 1, 'max_features': 'sqrt', 'max_depth': 20}\n"
          ]
        }
      ],
      "source": [
        "param_dist = {\n",
        "    'n_estimators': [100, 200, 400, 600],\n",
        "    'max_depth': [10, 20, 30, None],\n",
        "    'min_samples_split': [2, 5, 10],\n",
        "    'min_samples_leaf': [1, 2, 4],\n",
        "    'max_features': ['sqrt', 'log2']\n",
        "}\n",
        "\n",
        "rf = RandomForestRegressor(random_state=42)\n",
        "\n",
        "random_search = RandomizedSearchCV(\n",
        "    estimator=rf,\n",
        "    param_distributions=param_dist,\n",
        "    n_iter=20,   \n",
        "    cv=3,\n",
        "    scoring='neg_root_mean_squared_error',\n",
        "    random_state=42,\n",
        "    n_jobs=-1,\n",
        "    verbose=2\n",
        ")\n",
        "\n",
        "random_search.fit(X_train, y_train)\n",
        "\n",
        "print(\"Best Parameters:\", random_search.best_params_)\n",
        "\n",
        "best_rf = random_search.best_estimator_"
      ]
    },
    {
      "cell_type": "code",
      "execution_count": 18,
      "metadata": {},
      "outputs": [
        {
          "name": "stdout",
          "output_type": "stream",
          "text": [
            "Optimized RF RMSE: 27.168081760856918\n",
            "Optimized RF R²: 0.8384465386555389\n"
          ]
        }
      ],
      "source": [
        "y_pred = best_rf.predict(X_val)\n",
        "rmse = np.sqrt(mean_squared_error(y_val, y_pred))\n",
        "r2 = r2_score(y_val, y_pred)\n",
        "\n",
        "print(\"Optimized RF RMSE:\", rmse)\n",
        "print(\"Optimized RF R²:\", r2)"
      ]
    },
    {
      "cell_type": "code",
      "execution_count": null,
      "metadata": {},
      "outputs": [],
      "source": []
    }
  ],
  "metadata": {
    "colab": {
      "provenance": []
    },
    "kernelspec": {
      "display_name": "Python 3",
      "name": "python3"
    },
    "language_info": {
      "codemirror_mode": {
        "name": "ipython",
        "version": 3
      },
      "file_extension": ".py",
      "mimetype": "text/x-python",
      "name": "python",
      "nbconvert_exporter": "python",
      "pygments_lexer": "ipython3",
      "version": "3.13.5"
    }
  },
  "nbformat": 4,
  "nbformat_minor": 0
}
